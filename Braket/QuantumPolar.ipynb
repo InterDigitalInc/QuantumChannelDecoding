{
 "cells": [
  {
   "cell_type": "markdown",
   "id": "68458b39",
   "metadata": {},
   "source": [
    "# Quantum Polar Decoding on Amazon Braket\n",
    "This file demonstrates the algorithm explained in our paper **\"Quantum Channel Decoding\"** as submitted to the [QEC-22 conference](https://qce.quantum.ieee.org/2022/).\n",
    "\n",
    "Please refer to the readme file in this folder for more information about setting up the environment, installing the required packages, and getting ready to run this notebook with Amazon Braket.\n",
    "\n",
    "Copyright &copy; 2022 InterDigital AI Research Lab"
   ]
  },
  {
   "cell_type": "code",
   "execution_count": 1,
   "id": "7a22ce2b",
   "metadata": {},
   "outputs": [
    {
     "name": "stdout",
     "output_type": "stream",
     "text": [
      "Software platform changed to 'BRAKET'.\n"
     ]
    }
   ],
   "source": [
    "import matplotlib.pyplot as plt\n",
    "import numpy as np\n",
    "\n",
    "from quantumpolardecoder import QuantumPolar\n",
    "from polarsc import scDecode, sclDecode\n",
    "QuantumPolar.setPlatform(\"BRAKET\")   # By default this is set to QISKIT if both packages are installed"
   ]
  },
  {
   "cell_type": "markdown",
   "id": "a7cb3e9f",
   "metadata": {},
   "source": [
    "You can unremark the other devices to run on Braket's simulators or real quantum computers. Before selecting a device, in Amazon Braket, go to ``Devices`` and make sure it is currently available. Also please note that even if the device is available, it will probably run slower than your local device simulation. So, please be patient."
   ]
  },
  {
   "cell_type": "code",
   "execution_count": 2,
   "id": "441830b8",
   "metadata": {},
   "outputs": [],
   "source": [
    "from braket.aws import AwsDevice\n",
    "from braket.devices import LocalSimulator\n",
    "\n",
    "device = LocalSimulator()\n",
    "# device = AwsDevice(\"arn:aws:braket:::device/quantum-simulator/amazon/sv1\")\n",
    "# device = AwsDevice(\"arn:aws:braket:us-west-1::device/qpu/rigetti/Aspen-M-1\")\n",
    "# device = AwsDevice(\"arn:aws:braket:::device/qpu/ionq/ionQdevice\")\n",
    "# device = AwsDevice(\"arn:aws:braket:eu-west-2::device/qpu/oqc/Lucy\")"
   ]
  },
  {
   "cell_type": "markdown",
   "id": "fa0f5611",
   "metadata": {},
   "source": [
    "## Creating a QuantumPolar class\n",
    "Here we first create a ``QuantumPolar`` class for (16,8) Polar Decoding, which means we are using 8-bit messages embedded in 16-bit code-words. The ``getRandomMessage`` method creates a random message and returns it together with the corresponding code-word, BPSK-modulated signal, and noisy received signal. \n",
    "\n",
    "Then we print the message information before calling a series of decoding functions to decode the noisy received signal using **Successive Cancellation**, **Successive Cancellation List**, and **Quantum** algorithms."
   ]
  },
  {
   "cell_type": "code",
   "execution_count": 3,
   "id": "81439358",
   "metadata": {},
   "outputs": [
    {
     "name": "stdout",
     "output_type": "stream",
     "text": [
      "Message:           0     0     0     0     1     1     0     0\n",
      "u:                 0     0     0     0     0     0     0     0     0     0     0     1     0     1     0     0\n",
      "codeWord:          0     0     1     1     1     1     0     0     0     0     1     1     1     1     0     0\n",
      "Noisy Rx:        0.1   0.7  -1.8  -0.8  -0.2  -0.7   0.5   0.3   1.4  -0.6  -0.5  -0.2  -0.7  -1.1   1.2   1.6\n",
      "Hard-Decision:     0     0     1     1     1     1     0     0     0     1     1     1     1     1     0     0\n",
      "Num bit errors: 1 (Hard Decision)\n",
      "Num bit errors: 4 (u)\n",
      "\n",
      "Decoding with different algorithms:\n",
      "  Org. Message:                  0  0  0  0  1  1  0  0\n",
      "  Decoded Message(SC):           0  0  0  0  1  1  0  0 ✓\n",
      "  Decoded Message(SCL-4):        0  0  0  0  1  1  0  0 ✓\n",
      "  Decoded Message(Quantum-Fast): 0  0  0  0  1  1  0  0 ✓\n",
      "  Decoded Message(Quantum):      0  0  0  0  1  1  0  0 ✓\n"
     ]
    }
   ],
   "source": [
    "# Instantiate a QuantumPolar class\n",
    "qp = QuantumPolar(16, 8, device=device)\n",
    "\n",
    "ebNoDb = 4\n",
    "# Create a random message (msg), and the corresponding codeWord, BPSK transmitted signal, noisy\n",
    "# received signal \"rx\", and the noise power based on the given Eb/N0 value.\n",
    "msg, msgCrc, u, codeWord, tx, rx, sigma2 = qp.getRandomMessage(ebNoDb)\n",
    "print(\"Message:       \", \"  \".join(\"%4d\"%(x) for x in msg))\n",
    "if qp.nCrc>0:\n",
    "    print(\"Message+CRC:   \", \"  \".join(\"%4d\"%(x) for x in msgCrc))    \n",
    "print(\"u:             \", \"  \".join(\"%4d\"%(x) for x in u))\n",
    "print(\"codeWord:      \", \"  \".join(\"%4d\"%(x) for x in codeWord))\n",
    "print(\"Noisy Rx:      \", \"  \".join(\"%4.1f\"%(x) for x in rx))\n",
    "cwHat = np.int8(rx<0)\n",
    "print(\"Hard-Decision: \",\"  \".join(\"%4d\"%(x) for x in cwHat))\n",
    "print(\"Num bit errors:\", sum((cwh!=cw) for cwh, cw in zip(cwHat,codeWord)), \"(Hard Decision)\")\n",
    "uHat = cwHat.dot(qp.g)%2\n",
    "print(\"Num bit errors:\", sum(uh!=uu for uh,uu in zip(uHat,u)), \"(u)\")\n",
    "\n",
    "print(\"\\nDecoding with different algorithms:\")\n",
    "print(\"  Org. Message:                 \", \"  \".join(\"%1d\"%(x) for x in msg))\n",
    "\n",
    "msgHat = qp.testSc(msg, rx-tx)\n",
    "print(\"  Decoded Message(SC):          \", \"  \".join(\"%1d\"%(x) for x in msgHat), \"✓\" if np.all(msgHat==msg) else \"X\")\n",
    "\n",
    "l=4\n",
    "msgHat = qp.decodeScl(rx, l)        \n",
    "print(\"  Decoded Message(SCL-%d):       \"%l, \"  \".join(\"%1d\"%(x) for x in msgHat), \"✓\" if np.all(msgHat==msg) else \"X\")\n",
    "\n",
    "msgHat = qp.decodeFast(rx)\n",
    "print(\"  Decoded Message(Quantum-Fast):\", \"  \".join(\"%1d\"%(x) for x in msgHat), \"✓\" if np.all(msgHat==msg) else \"X\")\n",
    "\n",
    "msgHat = qp.decode(rx)\n",
    "print(\"  Decoded Message(Quantum):     \", \"  \".join(\"%1d\"%(x) for x in msgHat), \"✓\" if np.all(msgHat==msg) else \"X\")\n"
   ]
  },
  {
   "cell_type": "markdown",
   "id": "9137e1c7",
   "metadata": {},
   "source": [
    "## The quantum results statistics after executing the circuit\n",
    "Now we print the bitstreams with highest \"counts\" and draw a histogram based on the counts. The correlation between the noisy received signal and each code-word is shown in the last column of the table."
   ]
  },
  {
   "cell_type": "code",
   "execution_count": 4,
   "id": "e69b7a9c",
   "metadata": {},
   "outputs": [
    {
     "name": "stdout",
     "output_type": "stream",
     "text": [
      "\n",
      "Top-10 Candidates:\n",
      "    Qubits    Count  U-FFFFFFMMFFMMMMMM  MSG       Code-Word         Corr.\n",
      "    00010100  409      0000000000010100  00001100  0011110000111100  11.105  ✓\n",
      "    00100100  140      0000000000100100  01000100  0110110001101100  8.855   \n",
      "    11010100  117      0000001100010100  10011100  0110100100111100  6.223   \n",
      "    10010100  69       0000001000010100  10001100  1001011000111100  5.924   \n",
      "    00110100  54       0000000000110100  01001100  1001110010011100  3.643   \n",
      "    11100100  38       0000001100100100  11010100  0011100101101100  9.724   \n",
      "    00011100  31       0000000000011100  00101100  1011010010110100  6.452   \n",
      "    10100100  24       0000001000100100  11000100  1100011001101100  3.674   \n",
      "    00000100  23       0000000000000100  00000100  1100110011001100  1.393   \n",
      "    01010100  22       0000000100010100  00011100  1100001100111100  1.042   \n"
     ]
    },
    {
     "data": {
      "image/png": "[encoded data removed]",
      "text/plain": [
       "<Figure size 432x288 with 1 Axes>"
      ]
     },
     "metadata": {
      "needs_background": "light"
     },
     "output_type": "display_data"
    }
   ],
   "source": [
    "# Get up to 10 bitstreams with highest counts\n",
    "qp.printStats(rx, msgHat, msg, k=10, histogram=True)\n"
   ]
  },
  {
   "cell_type": "markdown",
   "id": "9a8ed53c",
   "metadata": {},
   "source": [
    "## Showing the Quantum Polar Decoder circuit\n",
    "Now we can print the circuit and its depth."
   ]
  },
  {
   "cell_type": "code",
   "execution_count": 5,
   "id": "59462854",
   "metadata": {},
   "outputs": [
    {
     "name": "stdout",
     "output_type": "stream",
     "text": [
      "Circuit Depth: 5\n",
      "T  : |   0    |1| 2 | 3 | 4 |\n",
      "                             \n",
      "q0 : -Ry(0.73)-X---------X---\n",
      "               |         |   \n",
      "q1 : -Ry(1.01)-C---------|-X-\n",
      "                         | | \n",
      "q2 : -Ry(2.42)-X-----X---|-|-\n",
      "               |     |   | | \n",
      "q3 : -Ry(2.04)-C-----|-X-|-|-\n",
      "                     | | | | \n",
      "q4 : -Ry(2.62)-X-X---|-|-|-|-\n",
      "               | |   | | | | \n",
      "q5 : -Ry(2.90)-C-|-X-|-|-|-|-\n",
      "                 | | | | | | \n",
      "q6 : -Ry(0.16)-X-C-|-C-|-C-|-\n",
      "               |   |   |   | \n",
      "q7 : -Ry(0.09)-C---C---C---C-\n",
      "\n",
      "T  : |   0    |1| 2 | 3 | 4 |\n"
     ]
    }
   ],
   "source": [
    "print(\"Circuit Depth:\", qp.circuit.depth)\n",
    "print(qp.circuit)"
   ]
  },
  {
   "cell_type": "code",
   "execution_count": null,
   "id": "11d39b64",
   "metadata": {},
   "outputs": [],
   "source": []
  }
 ],
 "metadata": {
  "kernelspec": {
   "display_name": "Python 3 (ipykernel)",
   "language": "python",
   "name": "python3"
  },
  "language_info": {
   "codemirror_mode": {
    "name": "ipython",
    "version": 3
   },
   "file_extension": ".py",
   "mimetype": "text/x-python",
   "name": "python",
   "nbconvert_exporter": "python",
   "pygments_lexer": "ipython3",
   "version": "3.8.11"
  }
 },
 "nbformat": 4,
 "nbformat_minor": 5
}
