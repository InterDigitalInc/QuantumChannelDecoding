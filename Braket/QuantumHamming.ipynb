{
 "cells": [
  {
   "cell_type": "markdown",
   "id": "a6822351",
   "metadata": {},
   "source": [
    "# Quantum Hamming Decoding on Amazon Braket\n",
    "This file demonstrates the algorithm explained in our paper **\"Quantum Channel Decoding\"** as submitted to the [QEC-22 conference](https://qce.quantum.ieee.org/2022/).\n",
    "\n",
    "Please refer to the readme file in this folder for more information about setting up the environment, installing the required packages, and getting ready to run this notebook with Amazon Braket.\n",
    "\n",
    "Copyright &copy; 2022 InterDigital AI Research Lab"
   ]
  },
  {
   "cell_type": "code",
   "execution_count": 1,
   "id": "7a22ce2b",
   "metadata": {},
   "outputs": [
    {
     "name": "stdout",
     "output_type": "stream",
     "text": [
      "Software platform changed to 'BRAKET'.\n"
     ]
    }
   ],
   "source": [
    "import numpy as np\n",
    "import matplotlib.pyplot as plt\n",
    "\n",
    "from quantumhammingdecoder import QuantumHamming\n",
    "QuantumHamming.setPlatform(\"BRAKET\")   # By default this is set to QISKIT if both packages are installed"
   ]
  },
  {
   "cell_type": "markdown",
   "id": "274631e5",
   "metadata": {},
   "source": [
    "You can unremark the other devices to run on Braket's simulators or real quantum computers. Before selecting a device, in Amazon Braket, go to ``Devices`` and make sure it is currently available. Also please note that even if the device is available, it will probably run slower than your local device simulation. So, please be patient."
   ]
  },
  {
   "cell_type": "code",
   "execution_count": 2,
   "id": "a658907e",
   "metadata": {},
   "outputs": [],
   "source": [
    "from braket.aws import AwsDevice\n",
    "from braket.devices import LocalSimulator\n",
    "\n",
    "device = LocalSimulator()\n",
    "# device = AwsDevice(\"arn:aws:braket:::device/quantum-simulator/amazon/sv1\")\n",
    "# device = AwsDevice(\"arn:aws:braket:us-west-1::device/qpu/rigetti/Aspen-M-1\")\n",
    "# device = AwsDevice(\"arn:aws:braket:::device/qpu/ionq/ionQdevice\")\n",
    "# device = AwsDevice(\"arn:aws:braket:eu-west-2::device/qpu/oqc/Lucy\")"
   ]
  },
  {
   "cell_type": "markdown",
   "id": "e25a1f69",
   "metadata": {},
   "source": [
    "## Creating a QuantumHamming class\n",
    "Here we first create a ``QuantumHamming`` class for (7,4) Hamming Decoding, which means we are using 4-bit messages embedded in 7-bit code-words. The ``getRandomMessage`` method creates a random message and returns it together with the corresponding code-word, BPSK-modulated signal, and noisy received signal. \n",
    "\n",
    "Then we print the message information before calling a series of decoding functions to decode the noisy received signal using **Hard Decision**, **Maximum Likelihood**, and **Quantum** algorithms."
   ]
  },
  {
   "cell_type": "code",
   "execution_count": 3,
   "id": "81439358",
   "metadata": {},
   "outputs": [
    {
     "name": "stdout",
     "output_type": "stream",
     "text": [
      "Message:           0     0     1     0\n",
      "codeWord:          0     1     0     1     0     1     0\n",
      "Noisy Rx:        -0.2  -0.8   0.0  -0.5   1.3  -0.8  -0.1\n",
      "Hard-Decision:     1     1     0     1     0     1     1\n",
      "Num bit errors: 2 (Hard Decision)\n",
      "\n",
      "Decoding with different algorithms:\n",
      "  Org. Message:                           0  0  1  0\n",
      "  Decoded Message(Hard-Error Correction): 0  0  0  1 X\n",
      "  Decoded Message(Hard-MinDist):          0  0  0  1 X\n",
      "  Decoded Message(Maximum Likelihood):    0  0  1  0 ✓\n",
      "  Decoded Message(Quantum-Fast):          1  0  1  1 X\n",
      "  Decoded Message(Quantum):               0  0  1  0 ✓\n",
      "  Decoded Message(Quantum+Correction):    0  0  1  0 ✓\n"
     ]
    }
   ],
   "source": [
    "qh = QuantumHamming(7, device=device)\n",
    "\n",
    "ebNoDb = 4\n",
    "# Create a random message (msg), and the corresponding codeWord, BPSK transmitted signal (tx), noisy\n",
    "# received signal (rx), and the noise power based on the given Eb/N0 value (sigma2).\n",
    "msg, codeWord, tx, rx, sigma2 = qh.getRandomMessage(ebNoDb)\n",
    "print(\"Message:       \", \"  \".join(\"%4d\"%(x) for x in msg))\n",
    "print(\"codeWord:      \", \"  \".join(\"%4d\"%(x) for x in codeWord))\n",
    "print(\"Noisy Rx:       \", \"  \".join(\"%4.1f\"%(x) for x in rx))\n",
    "cwHat = np.int8(rx<0)\n",
    "print(\"Hard-Decision: \",\"  \".join(\"%4d\"%(x) for x in cwHat))\n",
    "print(\"Num bit errors:\", sum((cwh!=cw) for cwh, cw in zip(cwHat,codeWord)), \"(Hard Decision)\")\n",
    "\n",
    "print(\"\\nDecoding with different algorithms:\")\n",
    "print(\"  Org. Message:                          \", \"  \".join(\"%1d\"%(x) for x in msg))\n",
    "\n",
    "# Decode the received signal rx to get the original message:\n",
    "# Using Hard Decision. The parity bits are used to do error correction.\n",
    "msgHat = qh.hardDecode(rx, minDist=False)\n",
    "print(\"  Decoded Message(Hard-Error Correction):\", \"  \".join(\"%1d\"%(x) for x in msgHat), \"✓\" if np.all(msgHat==msg) else \"X\")\n",
    "\n",
    "# Using Hard Decision and selecting based on minimum hamming distance\n",
    "msgHat = qh.hardDecode(rx)\n",
    "print(\"  Decoded Message(Hard-MinDist):         \", \"  \".join(\"%1d\"%(x) for x in msgHat), \"✓\" if np.all(msgHat==msg) else \"X\")\n",
    "\n",
    "# Using Soft Decision and Maximum Likelihood based on maximum correlation between rx and all possible codewords\n",
    "msgHat = qh.softDecode(rx)\n",
    "print(\"  Decoded Message(Maximum Likelihood):   \", \"  \".join(\"%1d\"%(x) for x in msgHat), \"✓\" if np.all(msgHat==msg) else \"X\")\n",
    "\n",
    "# Using Quantum Fast decoding (based on the highest count)\n",
    "msgHat = qh.decodeFast(rx)\n",
    "print(\"  Decoded Message(Quantum-Fast):         \", \"  \".join(\"%1d\"%(x) for x in msgHat), \"✓\" if np.all(msgHat==msg) else \"X\")\n",
    "\n",
    "# Using Quantum plus ML:\n",
    "msgHat = qh.decode(rx)\n",
    "print(\"  Decoded Message(Quantum):              \", \"  \".join(\"%1d\"%(x) for x in msgHat), \"✓\" if np.all(msgHat==msg) else \"X\")\n",
    "\n",
    "# Using Quantum plus ML plus Error Correction:\n",
    "msgHat = qh.decode(rx, correctErrors=True)\n",
    "print(\"  Decoded Message(Quantum+Correction):   \", \"  \".join(\"%1d\"%(x) for x in msgHat), \"✓\" if np.all(msgHat==msg) else \"X\")\n"
   ]
  },
  {
   "cell_type": "markdown",
   "id": "8510402e",
   "metadata": {},
   "source": [
    "## The quantum results statistics after executing the circuit\n",
    "Now we print the bitstreams with highest \"counts\" and draw a histogram based on the counts. Here is an explanation of the columns:\n",
    "- Qubits: The measured Qubits at the output of the quantum circuit\n",
    "- Count: The number of times the bit-stream in ``Qubits`` was measured at the output of quantum circuit\n",
    "- MSG: The message extracted from the qubits using message bit indexes\n",
    "- Code-Word: The code-word obtained by applying the generator matrix G to the ``MSG``\n",
    "- Correlation: The correlation between ``Code-Word`` and the noisy received signal\n",
    "- Check: The ``n-k`` parity check bits. Zero means no error, otherwise shows the location of error.\n",
    "- CW (rx): The code-word based on the received signal. May not be a valid code-word due to noise.\n",
    "- CW (cor): The corrected code-word obtained from applying ``Check`` to ``CW (rx)``.\n",
    "- MSG (cor): The corrected message extracted ``CW (cor)``\n",
    "- Corrl (cor): The correlation between ``CW (cor)`` and the noisy received signal"
   ]
  },
  {
   "cell_type": "code",
   "execution_count": 4,
   "id": "b1458a9a",
   "metadata": {},
   "outputs": [
    {
     "name": "stdout",
     "output_type": "stream",
     "text": [
      "\n",
      "Top-10 Candidates:\n",
      "    Qubits   Count  MSG   Code-Word  Correlation  Check  CW (rx)  CW (cor)  MSG (cor)  Corrl (cor)\n",
      "    PPMPMMM               PPMPMMM                        PPMPMMM  PPMPMMM                         \n",
      "    0101011  166    0011  1000011    1.1044       011    1101011  0110011   1011       2.2452       --\n",
      "    1000010  144    0010  0101010    3.1612       100    1101010  0101010   0010       3.1612       ✓✓\n",
      "    1011011  131    1011  0110011    2.2452       101    1111011  1111111   1111       0.9327       --\n",
      "    0110010  124    1010  1011010    1.8752       010    1111010  1011010   1010       1.8752       --\n",
      "    1101011  83     0011  1000011    1.1044       111    0101011  0101010   0010       3.1612       -✓\n",
      "    0011011  69     1011  0110011    2.2452       001    0111011  0110011   1011       2.2452       --\n",
      "    0000010  56     0010  0101010    3.1612       000    0101010  0101010   0010       3.1612       ✓✓\n",
      "    1110010  44     1010  1011010    1.8752       110    0111010  1110000   1000       0.9662       --\n",
      "    0111010  22     1010  1011010    1.8752       011    1110010  0101010   0010       3.1612       -✓\n",
      "    1010011  21     1011  0110011    2.2452       100    1110011  0110011   1011       2.2452       --\n"
     ]
    },
    {
     "data": {
      "image/png": "[encoded data removed]",
      "text/plain": [
       "<Figure size 432x288 with 1 Axes>"
      ]
     },
     "metadata": {
      "needs_background": "light"
     },
     "output_type": "display_data"
    }
   ],
   "source": [
    "# Get up to 10 bitstreams with highest counts\n",
    "qh.printStats(rx,msgHat, msg, k=10, histogram=True)\n"
   ]
  },
  {
   "cell_type": "markdown",
   "id": "7cdca470",
   "metadata": {},
   "source": [
    "## Showing the Quantum Hamming Decoder circuit\n",
    "Now we can print the circuit and its depth."
   ]
  },
  {
   "cell_type": "code",
   "execution_count": 5,
   "id": "59462854",
   "metadata": {},
   "outputs": [
    {
     "name": "stdout",
     "output_type": "stream",
     "text": [
      "Circuit Depth: 6\n",
      "T  : |   0    |1| 2 |  3  | 4 |5|\n",
      "                                 \n",
      "q0 : -Ry(1.94)-X-X---X-----------\n",
      "               | |   |           \n",
      "q1 : -Ry(2.74)-|-|-X-|-X---X-----\n",
      "               | | | | |   |     \n",
      "q2 : -Ry(1.50)-C-|-C-|-|---|-----\n",
      "                 |   | |   |     \n",
      "q3 : -Ry(2.42)---|---|-|-X-|-X-X-\n",
      "                 |   | | | | | | \n",
      "q4 : -Ry(0.14)---C---|-|-C-|-|-|-\n",
      "                     | |   | | | \n",
      "q5 : -Ry(2.72)-------|-C---|-C-|-\n",
      "                     |     |   | \n",
      "q6 : -Ry(1.70)-------C-----C---C-\n",
      "\n",
      "T  : |   0    |1| 2 |  3  | 4 |5|\n"
     ]
    }
   ],
   "source": [
    "print(\"Circuit Depth:\", qh.circuit.depth)\n",
    "print(qh.circuit)"
   ]
  },
  {
   "cell_type": "code",
   "execution_count": null,
   "id": "5e29cb62",
   "metadata": {},
   "outputs": [],
   "source": []
  }
 ],
 "metadata": {
  "kernelspec": {
   "display_name": "Python 3 (ipykernel)",
   "language": "python",
   "name": "python3"
  },
  "language_info": {
   "codemirror_mode": {
    "name": "ipython",
    "version": 3
   },
   "file_extension": ".py",
   "mimetype": "text/x-python",
   "name": "python",
   "nbconvert_exporter": "python",
   "pygments_lexer": "ipython3",
   "version": "3.9.10"
  }
 },
 "nbformat": 4,
 "nbformat_minor": 5
}
